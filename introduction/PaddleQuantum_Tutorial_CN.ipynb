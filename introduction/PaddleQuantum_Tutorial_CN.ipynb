{
 "cells": [
  {
   "cell_type": "markdown",
   "metadata": {},
   "source": [
    "# Paddle Quantum 入门手册\n",
    "\n",
    "<em> Copyright (c) 2020 Institute for Quantum Computing, Baidu Inc. All Rights Reserved. </em>"
   ]
  },
  {
   "cell_type": "markdown",
   "metadata": {},
   "source": [
    "## <a name=\"Overview\">总览</a>"
   ]
  },
  {
   "cell_type": "markdown",
   "metadata": {},
   "source": [
    "这是一份简洁、实用的关于量子机器学习（Quantum Machine Learnig，QML）的介绍，面向读者包括但不限于物理、数学和计算机背景。本手册主要采用 Jupyter Notebook 的交互形式 (调用 Numpy, Matplotlib等 Python包以及飞桨Paddlepaddle深度学习框架来实现基于线性代数的量子运算和机器学习优化问题)。我们不仅提供了关于量子计算的一些基础教程同时还能手把手带你完成属于你自己的第一份量子机器学习算法。这并不是一份关于量子计算的百科全书，但我们涉及的案例经常出现在教科书中以及文献中。如果你想深入挖掘一些相关的基础知识，我们也提供了一些外部链接方便用户自己学习。\n",
    "\n",
    "\n",
    "最后修改于: 2020年9月9日 由量桨 Paddle Quantum开发小组共同完成。\n",
    "\n",
    "<hr>"
   ]
  },
  {
   "cell_type": "markdown",
   "metadata": {},
   "source": [
    "## <a name=\"Contents\">目录</a> \n",
    "\n",
    "<ul>\n",
    "    <li><a href=\"#Overview\">入门手册总览</a>\n",
    "    <li><a href=\"#Paddle\">安装</a>:\n",
    "         [<a href=\"#conda\">Conda 与环境配置</a>]\n",
    "        [<a href=\"#pq\">安装 Paddle Quantum包</a>]\n",
    "    <li><a href=\"#QC\">量子计算基础</a>:\n",
    "         [<a href=\"#qubit\">量子比特</a>]\n",
    "         [<a href=\"#gate\">量子门</a>]\n",
    "         [<a href=\"#measure\">测量</a>]\n",
    "         [<a href=\"#ex1\">示例和练习</a>]\n",
    "    <li><a href=\"#VA\">量子电路模板的搭建</a>: \n",
    "         [<a href=\"#QNN\">量子神经网络QNN</a>]\n",
    "         [<a href=\"#Ansatz\">内置电路模板</a>]\n",
    "    <li><a href=\"#Mode\">量桨的运算模式</a>: \n",
    "         [<a href=\"#vec\">波函数向量模式</a>]\n",
    "         [<a href=\"#density\">密度矩阵模式</a>]\n",
    "         [<a href=\"#Bell\">练习：贝尔态</a>]\n",
    "    <li><a href=\"#Op\">飞桨优化器的使用</a>: \n",
    "         [<a href=\"#GD\">简单案例</a>]\n",
    "         [<a href=\"#ex2\">应用与练习</a>]\n",
    "    <li><a href=\"#demo\">量子机器学习案例</a>: \n",
    "         [<a href=\"#VQE\">无监督学习 - VQE</a>]\n",
    "    <li><a href=\"#References\">参考文献</a> \n",
    "        \n",
    "</ul>\n",
    "\n",
    "<hr>"
   ]
  },
  {
   "cell_type": "markdown",
   "metadata": {},
   "source": [
    "## <a name=\"Paddle\">安装教程</a>\n"
   ]
  },
  {
   "cell_type": "markdown",
   "metadata": {},
   "source": [
    "### <a name=\"conda\">Conda 与 Python 环境安装</a>"
   ]
  },
  {
   "cell_type": "markdown",
   "metadata": {},
   "source": [
    "我们推荐使用 [Anaconda](https://www.anaconda.com/download) 作为 Python3的开发环境，支持多种主流操作系统（Windows, MacOS, 以及 Linux）。Anaconda本身提供 Scipy, Numpy, Matplotlib等科学计算、作图包，最主要的是其自带 Python开发环境的管理器 conda，可以用来安装或者更新主流 Python包。这里我们提供一个例子来学习使用 conda创建和管理环境：\n",
    "\n",
    "1. 首先进入命令行 (Terminal) 界面：Windows用户可以使用组合键 `win + R` 打开运行程序再输入 `cmd`/ Mac用户可以使用组合键 `command⌘ + 空格` 再输入 `Terminal`。\n",
    "1. 进入 Terminal 后输入 `conda create --name paddle_quantum_env python=3.6` 创建名为 `paddle_quantum_env` 的 Python3.6 环境。\n",
    "1. 在 Terminal 内通过 `conda env list` 查看已有的环境，然后通过 `conda activate paddle_quantum_env ` 进入我们刚建立的环境。\n",
    "1. 为了能正确运行 Jupyter Notebook 我们还需要安装 `conda install jupyter notebook`。安装完成之后，如果你想开启 Jupyter 只需要在Terminal内激活正确的环境然后输入 `jupyter notebook` 即可。\n",
    "\n",
    "<img src=\"figures/terminal.png\" width=\"650\" >\n",
    "\n",
    "关于 conda 更多的本地指令请参考 [官方教程](https://docs.conda.io/projects/conda/en/latest/user-guide/getting-started.html)。\n",
    "<span class=\"blue\"> 此外，你也可以通过使用 <a href=\"https://docs.anaconda.com/anaconda/navigator/\"> Anaconda Navigator</a> 开启 jupyter notebook。\n",
    "\n",
    "以下是这个教程中你需要使用的包:\n",
    "<ul>\n",
    "    <li>Numpy\n",
    "    <li>Paddlepaddle 1.8.3 以上\n",
    "    <li>Paddle Quantum \n",
    "</ul>"
   ]
  },
  {
   "cell_type": "markdown",
   "metadata": {},
   "source": [
    "### <a name=\"pq\">安装 Paddle和 Paddle Quantum</a>"
   ]
  },
  {
   "cell_type": "markdown",
   "metadata": {},
   "source": [
    "接着我们先讲解下如何安装飞桨Paddlepaddle深度学习框架。用户需要再次打开 Terminal 界面，输入 `conda activate paddle_quantum_env `进入我们新建的Python 环境。接着输入 `conda install paddlepaddle` 安装最新的飞桨Paddle。如果你在按照以上方案安装 paddle-cpu 或者 paddle-gpu 遇到问题们可以参考 [官方链接](https://www.paddlepaddle.org.cn/documentation/docs/zh/install/install_Conda.html)。或者考虑以下备选方案：在 Terminal 界面输入 `pip install paddlepaddle` 或者开启 jupyter notebook 后运行以下的命令。"
   ]
  },
  {
   "cell_type": "code",
   "execution_count": 1,
   "metadata": {},
   "outputs": [],
   "source": [
    "from IPython.display import clear_output\n",
    "\n",
    "# 备用方法： 通过PyPI安装最新的飞桨Paddle\n",
    "!pip install paddlepaddle\n",
    "clear_output()"
   ]
  },
  {
   "cell_type": "markdown",
   "metadata": {},
   "source": [
    "在安装完成后，请通过以下代码段来检验是否成功安装 Paddle。"
   ]
  },
  {
   "cell_type": "code",
   "execution_count": 1,
   "metadata": {
    "colab": {},
    "colab_type": "code",
    "id": "HPV-UyAqsKFp"
   },
   "outputs": [
    {
     "name": "stdout",
     "output_type": "stream",
     "text": [
      "Running Verify Fluid Program ... \n",
      "Your Paddle Fluid works well on SINGLE GPU or CPU.\n",
      "Your Paddle Fluid works well on MUTIPLE GPU or CPU.\n",
      "Your Paddle Fluid is installed successfully! Let's start deep Learning with Paddle Fluid now\n"
     ]
    }
   ],
   "source": [
    "from paddle import fluid\n",
    "\n",
    "# 检查飞桨Paddle是否成功安装\n",
    "fluid.install_check.run_check()"
   ]
  },
  {
   "cell_type": "markdown",
   "metadata": {},
   "source": [
    "接着我们安装 Paddle Quantum包，很遗憾目前我们还不支持通过 pip安装。需要用户在 Terminal 界面通过 git指令 `git clone http://github.com/PaddlePaddle/quantum` 下载文件，然后输入 `cd quantum` 和 `pip install -e .` 完成安装。接着在 Terminal 界面输入`pip list`查看是否在正确的环境中安装完成。关于 git的使用和安装，请参考这篇 [教程](https://git-scm.com/book/zh/v2/%E8%B5%B7%E6%AD%A5-%E5%AE%89%E8%A3%85-Git)。此外，如果你需要更多的关于安装Paddle-Quantum 的帮助，可以参考我们的 [Github链接](https://github.com/PaddlePaddle/Quantum) 或者通过 Github Issues联系我们。"
   ]
  },
  {
   "cell_type": "code",
   "execution_count": 2,
   "metadata": {},
   "outputs": [],
   "source": [
    "import numpy as np\n",
    "from paddle import fluid\n",
    "from paddle.complex import matmul, transpose, trace\n",
    "from paddle_quantum.circuit import UAnsatz\n",
    "from paddle_quantum.utils import hermitian, random_pauli_str_generator, pauli_str_to_matrix\n",
    "from paddle_quantum.state import vec, vec_random, density_op, density_op_random"
   ]
  },
  {
   "cell_type": "markdown",
   "metadata": {},
   "source": [
    "以上的几个代码块没有任何报错的话，恭喜你！接着就可以顺利运行全部的教程了！"
   ]
  },
  {
   "cell_type": "markdown",
   "metadata": {},
   "source": [
    "<p>[回到 <a href=\"#Contents\">目录</a>]</p>\n",
    "\n",
    "<hr>"
   ]
  },
  {
   "cell_type": "markdown",
   "metadata": {},
   "source": [
    "## <a name=\"QC\">量子计算基础</a>"
   ]
  },
  {
   "cell_type": "markdown",
   "metadata": {},
   "source": [
    "量子计算 (Quantum Computing QC )是利用量子物理中特有的现象 (量子叠加态，量子纠缠)来设计相应的量子算法以解决 (物理、化学、计算机等领域)特定的任务。现有的量子计算有好几种模型，比如有基于绝热定理的绝热计算模型以及基于测量的MBQC模型等等。在本手册中，我们主要讨论目前影响力最大、使用最广泛的量子电路（Quantum circuit）模型。在量子电路的框架下，运算最基本的组成单元是量子比特 (qubit)。这与经典计算机中比特 (bit) 的概念很相似。经典比特只能处于0和1两种状态中的某一种 (物理图景上可以对应高低电位)。与之不同的是，量子比特不仅可以处于两个状态$\\lvert {0}\\rangle$ 还有 $\\lvert {1}\\rangle$还可以处于两者的叠加态 (稍后我们来具体讲解下这一概念)。而所谓的量子计算，就是利用量子逻辑门操控这些量子比特。逻辑门运算的基本理论是线性代数，在此我们假定读者已经具备一定的线性代数基础。"
   ]
  },
  {
   "cell_type": "markdown",
   "metadata": {},
   "source": [
    "### <a name=\"qubit\">什么是量子比特？</a>"
   ]
  },
  {
   "cell_type": "markdown",
   "metadata": {},
   "source": [
    "### 数学表示\n",
    "\n",
    "在量子力学中，一个微观粒子的量子态可以表示为由两个正规正交基线性组合得到的向量，这些基向量一般可以写为：\n",
    "\n",
    "$$ \\lvert {0}\\rangle := \\begin{bmatrix} 1 \\\\ 0 \\end{bmatrix}, \\quad \\lvert {1}\\rangle := \\begin{bmatrix} 0 \\\\ 1 \\end{bmatrix} $$\n",
    "\n",
    "我们这里向量的表示方法采用了量子物理上传统的狄拉克表示 (bra-ket)。这两个单位正交向量$\\{\\lvert {0}\\rangle, \\lvert {1}\\rangle \\}$，它俩一般被称为**计算基** (computational basis)。物理图景中我们可以认为 $\\lvert {0}\\rangle$ 和 $\\lvert {1}\\rangle$ 分别对应一个原子的能量基态和激发态或者其他一些二分类状态。 一个量子比特所有可能的态可以看作是二维希尔伯特空间中所有的归一化向量，这个希尔伯特空间的一组正规正交基正是$\\{\\lvert {0}\\rangle, \\lvert {1}\\rangle \\}$。而更多的量子比特系统也同样可以由高维度的希尔伯特空间中的的单位向量表示，而这个高维希尔伯特空间的正交基就是$\\{\\lvert {0}\\rangle, \\lvert {1}\\rangle \\}$的张量积。比如说，一个两量子比特 (2-qubit)系统可以被一个4维的希尔伯特空间里的单位复数向量表示，而这个希尔伯特空间的正规正交基是：\n",
    "\n",
    "$$ \n",
    "\\lvert {00}\\rangle = \\lvert {0}\\rangle\\otimes \\lvert {0}\\rangle := \\begin{bmatrix} 1 \\\\ 0 \\\\ 0 \\\\ 0 \\end{bmatrix}, \\quad \n",
    "\\lvert {01}\\rangle = \\lvert {0}\\rangle\\otimes \\lvert {1}\\rangle := \\begin{bmatrix} 0 \\\\ 1 \\\\ 0 \\\\ 0 \\end{bmatrix}, \\quad\n",
    "\\lvert {10}\\rangle = \\lvert {1}\\rangle\\otimes \\lvert {0}\\rangle := \\begin{bmatrix} 0 \\\\ 0 \\\\ 1 \\\\ 0 \\end{bmatrix}, \\quad\n",
    "\\lvert {11}\\rangle = \\lvert {1}\\rangle\\otimes \\lvert {0}\\rangle := \\begin{bmatrix} 0 \\\\ 0 \\\\ 0 \\\\ 1 \\end{bmatrix}\n",
    "$$\n",
    "\n",
    "我们默认最左边的位置代表第一个量子比特，依此类推。其中符号 $\\otimes$ 是张量积运算。其工作原理大概如下：\n",
    "给定两个矩阵$A_{m\\times n}$ 还有 $B_{p \\times q}$，那么$A,B$的张量积为\n",
    "\n",
    "\n",
    "$$\n",
    "A \\otimes B = \n",
    "\\begin{bmatrix}\n",
    "a_{11}B & \\cdots & a_{1 n}B\\\\\n",
    "\\vdots  & \\ddots & \\vdots \\\\\n",
    "a_{m1}B & \\cdots & a_{m n}B\n",
    "\\end{bmatrix}_{(mp)\\times (nq)}\n",
    "$$\n",
    "\n",
    "一个单量子比特所处的任意量子态 $\\lvert {\\psi}\\rangle$可以写成基向量 $\\lvert {0}\\rangle$ 和 $\\lvert {1}\\rangle$ 的线性叠加，也就是说，它可以被描述成一个$\\lvert {0}\\rangle$ 和 $\\lvert {1}\\rangle$的线性组合\n",
    "\n",
    "\n",
    "$$\\lvert {\\psi}\\rangle = \\alpha \\lvert {0}\\rangle  + \\beta \\lvert {1}\\rangle\n",
    ":= \\begin{bmatrix} \\alpha \\\\ \\beta \\end{bmatrix},\\,\\alpha, \\beta \\in \\mathbb{C}$$\n",
    "\n",
    "其中$\\alpha$ 和 $\\beta$ 可以是**复数**，他们表示概率振幅。这意味着当我们测量这个量子比特时，根据波恩法则，测量得到量子比特处于$\\lvert {0}\\rangle$ 状态的概率是$|\\alpha|^2$；而测量得到$\\lvert {1}\\rangle$的概率是$|\\beta|^2$。由于概率相加等于1，我们必须要加入如下的限制条件：\n",
    "\n",
    "$$|\\alpha|^2 + |\\beta|^2 = 1$$"
   ]
  },
  {
   "cell_type": "markdown",
   "metadata": {},
   "source": [
    "###  布洛赫球面 (Bloch Sphere) 表示\n",
    "\n",
    "我们用一个球面上的点来表示一个量子比特可能处于的量子态，这个球面被称为**布洛赫球面**，(见图 1)\n",
    "\n",
    "$$ \n",
    "\\lvert {\\psi}\\rangle = \\alpha \\lvert {0}\\rangle  + \\beta \\lvert {1}\\rangle  \n",
    "= \\cos\\bigg(\\frac{\\theta}{2}\\bigg) \\lvert {0}\\rangle +  e^{i\\varphi}\\sin\\bigg(\\frac{\\theta}{2}\\bigg) \\lvert {1}\\rangle\n",
    "$$\n",
    "\n",
    "注意：多个量子系统的状态就无法用布洛赫球面来表示。如果是一个经典比特的话，那么它只有两个状态0和1，也就是布洛赫球面的北极和南极。这两个位置恰好对应着$\\lvert {0}\\rangle$ 和 $\\lvert {1}\\rangle$。**而一个量子比特不光可以处于两极，它可以在球面上任意一点，这样一种叠加的状态是经典比特做不到的**。举例来说，量子态 $\\frac{1}{\\sqrt{2}}\\big(\\lvert {0}\\rangle + i\\lvert {1}\\rangle\\big)$就处于球面赤道和 y-正半轴的交界处。"
   ]
  },
  {
   "cell_type": "markdown",
   "metadata": {},
   "source": [
    "<img src=\"figures/bloch.png\" width=\"250\" >"
   ]
  },
  {
   "cell_type": "markdown",
   "metadata": {},
   "source": [
    "&emsp;&emsp;&emsp;&emsp;&emsp;&emsp;&emsp;&emsp;&emsp;  \n",
    "&emsp;&emsp;&emsp;&emsp;&emsp;&emsp;&emsp;&emsp;&emsp;\n",
    "&emsp;&emsp;&emsp;&emsp;&emsp;&emsp;&emsp;&emsp;&emsp;\n",
    "&emsp;&emsp;&emsp;&emsp;&emsp;&emsp;&emsp;&emsp;&emsp;\n",
    "&emsp;&emsp;\n",
    "**图 1.** \n",
    "单量子比特的布洛赫球面表示. [[图片来源]](https://en.wikipedia.org/wiki/Qubit)\n",
    "\n",
    "下面的内容面向对量子计算更熟悉的读者。如果你阅读这段感到困难，不用担心，您可以选择略过这一节，这不会对理解接下的内容产生影响。由于量子比特之间的交互以及去相干问题 (Decoherence)，因此，对于一个具有多量子比特的系统来说，它的单量子比特子系统将不再处于纯态 (pure state)，而是演变成混合态 (mixed state)。混合态可以看成不同纯态的按照一定概率的混合。\n",
    " **单比特的混合态可以看成是布洛赫球内部的点，而不是存在于球表面**。通常来说，混合态需要用到量子力学的密度矩阵形式来描述，比如\n",
    "\n",
    "$$ \n",
    "\\rho_{\\text{mixed}} \n",
    "= \\sum_i P_i \\lvert {\\psi_i}\\rangle\\langle{\\psi_i} \\lvert\n",
    "= \\frac{1}{2} \\lvert {0}\\rangle \\langle{0} \\lvert  + \\frac{1}{2} \\lvert {1}\\rangle\\langle{1} \\lvert\n",
    ":= \\frac{1}{2}  \\begin{bmatrix} 1 \\\\ 0\\end{bmatrix} \\begin{bmatrix} 1 & 0 \\end{bmatrix} +  \\frac{1}{2}  \\begin{bmatrix} 0 \\\\ 1\\end{bmatrix} \\begin{bmatrix} 0 & 1 \\end{bmatrix} \n",
    "= \\frac{1}{2} \\begin{bmatrix} 1 & 0\\\\ 0 & 1 \\end{bmatrix}\n",
    "$$\n",
    "\n",
    "其中行向量 (bra) $ \\langle{0} \\lvert $ 是列向量 (ket) $\\lvert {0}\\rangle$ 的复共轭转置。"
   ]
  },
  {
   "cell_type": "markdown",
   "metadata": {},
   "source": [
    "**注：**如需更多信息，可参考维基百科 [链接](https://en.wikipedia.org/wiki/Qubit)"
   ]
  },
  {
   "cell_type": "markdown",
   "metadata": {},
   "source": [
    "### <a name=\"gate\">什么是量子逻辑门?</a>\n",
    "\n",
    "在经典计算机中，我们可以在经典比特上施加基本的逻辑运算( 非门 NOT, 与非门 NAND, 异或门 XOR, 与门 AND, 或门 OR)并组合成更复杂的运算。而量子计算则有完全不同的一套逻辑运算，它们被称为量子门 (quantum gate)。我们并不能在一个量子计算机上编译现有的C++程序。因为**经典计算机和量子计算机有不同的逻辑门构造，所谓的量子算法是需要利用这些量子门的特殊性来构造的**。\n",
    "\n",
    "量子门在数学上可以被表示成酉矩阵 (unitary matrix)。酉矩阵操作可以保证向量的长度不变，这是个很好的性质。不然我们对一个纯态量子比特进行操作，会让它劣化成混合态导致其无法接着使用。那么什么是酉矩阵呢？\n",
    "\n",
    "$$ \n",
    "U^{\\dagger}U = UU^{\\dagger} = I,\\,\n",
    "\\Vert \\lvert {\\psi}\\rangle \\Vert  = \\Vert U\\lvert {\\psi}\\rangle\\Vert = 1\n",
    "$$\n",
    "\n",
    "其中$U^{\\dagger}$是$U$的埃尔米特转置，$I$ 表示单位矩阵。但是酉矩阵作为量子门的物理意义是什么？这意味着**所有的量子门都必须是可逆的**。对于任何一个量子门运算，都可以找到一个与其对应的反向运算。除此之外，酉矩阵必须是个方阵。因为量子门的输入和输出要求有同样数量的量子比特。一个作用在 $n$ 量子比特的量子门可以写成一个 $2^n \\times 2^n$ 的酉矩阵。最常见的（也是物理上最容易实现的）量子门作用在一个或两个量子比特上，就像经典逻辑门那样。"
   ]
  },
  {
   "cell_type": "markdown",
   "metadata": {},
   "source": [
    "### 单量子比特门\n",
    "\n",
    "接下来，我们介绍在量子计算中非常重要的单量子比特门，包括泡利矩阵 $\\{X, Y, Z\\}$ 或 $\\{\\sigma_x, \\sigma_y, \\sigma_z\\}$、单比特旋转门 $\\{R_x, R_y, R_z\\}$ 和哈达玛门 $H$。有一个对于经典或量子计算都很重要的门是 **非门 (NOT gate)**，其可以表示成如下酉矩阵：\n",
    "\n",
    "\n",
    "$$ X := \\begin{bmatrix} 0 &1 \\\\ 1 &0 \\end{bmatrix}$$\n",
    "\n",
    "这个量子门（酉矩阵）作用在单量子比特（一个复向量）上本质上的运算是**矩阵乘以向量**\n",
    "\n",
    "\n",
    "$$ \n",
    "X \\lvert {0}\\rangle := \\begin{bmatrix} 0 &1 \\\\ 1 &0 \\end{bmatrix} \\begin{bmatrix} 1 \\\\0 \\end{bmatrix} \n",
    "=\\begin{bmatrix} 0 \\\\1 \\end{bmatrix} = \\lvert {1}\\rangle \n",
    "\\quad \\text{and} \\quad \n",
    "X \\lvert {1}\\rangle := \\begin{bmatrix} 0 &1 \\\\ 1 &0 \\end{bmatrix} \\begin{bmatrix} 0 \\\\1 \\end{bmatrix} \n",
    "=\\begin{bmatrix} 1 \\\\0 \\end{bmatrix}=\\lvert {0}\\rangle\n",
    "$$\n",
    "\n",
    "回忆起前面的布洛赫球面表示，这个矩阵 $X$ 作用在一个量子比特（布洛赫球面上的一点）就相当于**关于布洛赫球的X轴旋转角度 $\\pi$**。这就是为什么\n",
    " $X$ 可以表示成 $R_x(\\pi)$（只相差了一个无关紧要的全局相位 $e^{-i\\pi/2} = -i$ )。其他两个泡利矩阵 $Y$ 和 $Z$ 在这一点上也非常相似 （代表绕 Y和 Z轴旋转 $\\pi$运算 ）：\n",
    "\n",
    "\n",
    "$$ \n",
    "Y := \\begin{bmatrix} 0 &-i \\\\ i &0 \\end{bmatrix}\n",
    "\\quad \\text{and} \\quad \n",
    "Z := \\begin{bmatrix} 1 &0 \\\\ 0 &-1 \\end{bmatrix}\n",
    "$$\n",
    "\n",
    "一般来说，任何一个在布洛赫球关于相应的轴旋转 $\\theta$ 角度的量子门可以表示为：\n",
    "\n",
    "$$ \n",
    "R_x(\\theta) := \n",
    "\\begin{bmatrix} \n",
    "\\cos \\frac{\\theta}{2} &-i\\sin \\frac{\\theta}{2} \\\\ \n",
    "-i\\sin \\frac{\\theta}{2} &\\cos \\frac{\\theta}{2} \n",
    "\\end{bmatrix}\n",
    ",\\quad \n",
    "R_y(\\theta) := \n",
    "\\begin{bmatrix}\n",
    "\\cos \\frac{\\theta}{2} &-\\sin \\frac{\\theta}{2} \\\\ \n",
    "\\sin \\frac{\\theta}{2} &\\cos \\frac{\\theta}{2} \n",
    "\\end{bmatrix}\n",
    ",\\quad \n",
    "R_z(\\theta) := \n",
    "\\begin{bmatrix}\n",
    "e^{-i\\frac{\\theta}{2}} & 0 \\\\ \n",
    "0 & e^{i\\frac{\\theta}{2}}\n",
    "\\end{bmatrix}\n",
    "$$\n",
    "\n",
    "除了旋转门之外，最重要的单比特门就是哈达玛门了。对应的布洛赫球面解释是两个旋转组成的，先是按Z轴旋转$\\pi$，然后按Y轴旋转$\\pi/2$。它的矩阵表示是：\n",
    "\n",
    "$$H := \\frac{1}{\\sqrt{2}}\\begin{bmatrix} 1 &1 \\\\ 1 &-1 \\end{bmatrix} $$\n",
    "\n"
   ]
  },
  {
   "cell_type": "markdown",
   "metadata": {},
   "source": [
    "### 两比特量子门\n",
    "\n",
    "从单量子比特门我们可以拓展到两量子比特门。有两种拓展方式，第一种是只挑选出一个量子比特，在上面施加单量子比特门，其他的量子比特则不受影响。有的时候，您会见到如下图所示的量子电路："
   ]
  },
  {
   "cell_type": "markdown",
   "metadata": {},
   "source": [
    "<img src=\"figures/hardmad.png\" width=\"600\" >\n",
    "\n",
    "&emsp;&emsp;&emsp;&emsp;&emsp;&emsp;&emsp;&emsp;&emsp;  \n",
    "&emsp;&emsp;&emsp;&emsp;&emsp;&emsp;&emsp;&emsp;&emsp;\n",
    "&emsp;&emsp;&emsp;&emsp;&emsp;&emsp;&emsp;&emsp;&emsp;\n",
    "&emsp;&emsp;&emsp;&emsp;&emsp;&emsp;&emsp;&emsp;&emsp;\n",
    "**图 2.** \n",
    "两量子比特逻辑运算的电路表示和解读. [[图片来源]](https://en.wikipedia.org/wiki/Quantum_logic_gate)"
   ]
  },
  {
   "cell_type": "markdown",
   "metadata": {},
   "source": [
    "作用在两量子比特上的量子门可以表示成一个$4\\times4$酉矩阵\n",
    "$$\n",
    "U = H \\otimes I \n",
    "= \\frac{1}{\\sqrt{2}} \\begin{bmatrix} 1 &1 \\\\ 1 &-1 \\end{bmatrix} \n",
    "\\otimes \\begin{bmatrix} 1 &0 \\\\ 0 &1 \\end{bmatrix} \n",
    "= \\frac{1}{\\sqrt{2}} \\,\n",
    "\\begin{bmatrix}\n",
    "1 &0 &1 &0  \\\\ \n",
    "0 &1 &0 &1  \\\\\n",
    "1 &0 &-1 &0 \\\\\n",
    "0 &1 &0 &-1 \n",
    "\\end{bmatrix}\n",
    "$$"
   ]
  },
  {
   "cell_type": "markdown",
   "metadata": {},
   "source": [
    "另一种拓展方式是作用在全部两个量子比特上。比如CNOT，这个门会使得一个量子比特的状态影响到另一个量子比特的状态\n",
    "\n",
    "$$\n",
    "CNOT := \n",
    "\\begin{bmatrix} \n",
    "1 &0 &0 &0 \\\\ \n",
    "0 &1 &0 &0 \\\\\n",
    "0 &0 &0 &1 \\\\\n",
    "0 &0 &1 &0 \n",
    "\\end{bmatrix}\n",
    "$$\n",
    "\n",
    "我们近距离观察一下它作用在不同的初始量子态上\n",
    "\n",
    "$$\n",
    "CNOT \\lvert {00}\\rangle = \\lvert {00}\\rangle, \\quad\n",
    "CNOT \\lvert {01}\\rangle = \\lvert {01}\\rangle, \\quad\n",
    "CNOT \\lvert {10}\\rangle = \\lvert {11}\\rangle, \\quad\n",
    "CNOT \\lvert {11}\\rangle = \\lvert {10}\\rangle\n",
    "$$\n",
    "\n",
    "也就是说，当第一个量子比特处于 $\\lvert {1}\\rangle$状态时，CNOT会在第二个量子比特上施加$X$门，如果第一个量子比特处于 $\\lvert {0}\\rangle$状态，那么第二个量子比特则不受任何影响。这也是为什么 CNOT 会被称为受控非门。下面是一些常见的量子门及它们的矩阵表示"
   ]
  },
  {
   "cell_type": "markdown",
   "metadata": {},
   "source": [
    "<img src=\"figures/gate.png\" width=\"650\" >\n",
    "\n",
    "&emsp;&emsp;&emsp;&emsp;&emsp;&emsp;&emsp;&emsp;&emsp;  \n",
    "&emsp;&emsp;&emsp;&emsp;&emsp;&emsp;&emsp;&emsp;&emsp;\n",
    "&emsp;&emsp;&emsp;&emsp;&emsp;&emsp;&emsp;&emsp;&emsp;\n",
    "&emsp;&emsp;&emsp;&emsp;&emsp;&emsp;&emsp;&emsp;&emsp;\n",
    "&emsp;&emsp;\n",
    "**图 3.** \n",
    "常见的量子门. [[图片来源]](https://en.wikipedia.org/wiki/Quantum_logic_gate)"
   ]
  },
  {
   "cell_type": "markdown",
   "metadata": {},
   "source": [
    "**注**：更多信息可见如下维基百科 [链接](https://en.wikipedia.org/wiki/Quantum_logic_gate)"
   ]
  },
  {
   "cell_type": "markdown",
   "metadata": {},
   "source": [
    "###  <a name=\"measure\">什么是量子力学中的测量?</a>\n",
    "\n",
    "对于一个两分类的量子态，比如电子的自旋（Spin），可以自旋向上。这时我们规定该电子处于 $\\lvert {0}\\rangle$态。当然电子也可以自旋向下，这时我们规定它处于 $\\lvert {1}\\rangle$ 态。神奇的是，电子等微观粒子在被观测之前可以同时处于自旋向上和自旋向下的叠加态 $\\lvert {\\psi}\\rangle =\\alpha \\lvert {0}\\rangle  + \\beta \\lvert {1}\\rangle$。那么这个奇怪的叠加态到底指的是什么呢？答案很简单，我们可以去测量一下这个处于\"叠加态\"的电子。值得注意的是，量子力学中的测量通常指的是一个统计结果而不是单次测量。这是由于测量本身的特性会使得观察后的量子态塌缩。就拿我们前面提到的处于 $\\lvert {\\psi}\\rangle$ 态的这个电子来举例，如果我们测量这一个电子的自旋，我们会有 $|\\alpha|^2$ 的概率观测到自旋向上并且观测后量子态塌缩成 $ \\lvert {0}\\rangle$。同样的，我们也有 $|\\beta|^2$ 的概率测量得到自旋向下$\\lvert {1}\\rangle$。那么想要精确的得到 $\\alpha$ 的数值，一次实验显然是不够的。我们需要拜托物理学家朋友准备了好多好多处于叠加态 $\\alpha \\lvert {0}\\rangle  + \\beta \\lvert {1}\\rangle$ 的电子，把每一个电子的自旋都测量了一下再统计频率。测量在量子力学中地位比较特殊，如果读者觉得难理解。请参阅 [维基百科-量子力学中的测量](https://en.wikipedia.org/wiki/Measurement_in_quantum_mechanics#:~:text=In%20quantum%20physics%2C%20a%20measurement,makes%20are%20in%20general%20probabilistic.) 获取更多知识。\n",
    "\n",
    "<hr>"
   ]
  },
  {
   "cell_type": "markdown",
   "metadata": {},
   "source": [
    "##    <a name=\"ex1\">示例以及练习</a>\n",
    "\n",
    "### 示例: 用Paddle Quantum创建 $X$ 门\n",
    "\n",
    "**注意:** 所有的单比特旋转门都按如下规定建立：\n",
    "\n",
    "$$ \n",
    "R_x(\\theta) := \n",
    "\\begin{bmatrix} \n",
    "\\cos \\frac{\\theta}{2} &-i\\sin \\frac{\\theta}{2} \\\\ \n",
    "-i\\sin \\frac{\\theta}{2} &\\cos \\frac{\\theta}{2} \n",
    "\\end{bmatrix}\n",
    ",\\quad \n",
    "R_y(\\theta) := \n",
    "\\begin{bmatrix}\n",
    "\\cos \\frac{\\theta}{2} &-\\sin \\frac{\\theta}{2} \\\\ \n",
    "\\sin \\frac{\\theta}{2} &\\cos \\frac{\\theta}{2} \n",
    "\\end{bmatrix}\n",
    ",\\quad \n",
    "R_z(\\theta) := \n",
    "\\begin{bmatrix}\n",
    "e^{-i\\frac{\\theta}{2}} & 0 \\\\ \n",
    "0 & e^{i\\frac{\\theta}{2}}\n",
    "\\end{bmatrix}\n",
    "$$\n",
    "\n",
    "因此，我们不难看出 $X$ 门可以表示为$R_x(\\pi)$。以下是代码展示："
   ]
  },
  {
   "cell_type": "code",
   "execution_count": 3,
   "metadata": {},
   "outputs": [
    {
     "name": "stdout",
     "output_type": "stream",
     "text": [
      "量子门的矩阵表达式为：\n",
      "[[ 6.123234e-17+0.j -6.123234e-17-1.j]\n",
      " [ 6.123234e-17-1.j  6.123234e-17+0.j]]\n"
     ]
    }
   ],
   "source": [
    "# 设置角度参数 theta = pi\n",
    "theta = np.array([np.pi])\n",
    "\n",
    "# 启动 Paddle 动态图模式\n",
    "with fluid.dygraph.guard():\n",
    "    \n",
    "    # 我们需要将 Numpy array 转换成 Paddle 动态图模式中支持的 variable\n",
    "    theta = fluid.dygraph.to_variable(theta)\n",
    "    \n",
    "    # 设置计算所需的量子比特数量\n",
    "    num_qubits = 1\n",
    "    \n",
    "    # 初始化我们的单比特量子电路\n",
    "    cir = UAnsatz(num_qubits)\n",
    "    \n",
    "    # 在第一个量子比特(第0号量子比特)的位置上施加一个 Rx 旋转门， 角度为 pi\n",
    "    which_qubit = 0\n",
    "    cir.rx(theta, which_qubit)\n",
    "    \n",
    "    # 打印出这个量子门\n",
    "    # 转换成 numpy \n",
    "    print('量子门的矩阵表达式为：')\n",
    "    print(cir.U.numpy())"
   ]
  },
  {
   "cell_type": "markdown",
   "metadata": {},
   "source": [
    "结果和$X (NOT)$门只相差一个全局相位$-i$\n",
    "\n",
    "\n",
    "$$ \\text{output} = \\begin{bmatrix} 0 &-i \\\\ -i &0 \\end{bmatrix}\n",
    "= -i\\begin{bmatrix} 0 &1 \\\\ 1 &0 \\end{bmatrix} = -i X\n",
    "$$\n",
    "\n",
    "有兴趣的话，你可以仔细思考一下为什么在量子计算中，全局相位并不重要。\n"
   ]
  },
  {
   "cell_type": "markdown",
   "metadata": {},
   "source": [
    "### 练习: 创建 $Y$ 门\n",
    "\n",
    "那么按照以上的例子依葫芦画瓢，你是否可以试着自己创建一个 $Y$ 门？试着补全下面的代码"
   ]
  },
  {
   "cell_type": "code",
   "execution_count": null,
   "metadata": {},
   "outputs": [],
   "source": [
    "theta = \"your code\"\n",
    "with fluid.dygraph.guard():\n",
    "    \n",
    "    theta = fluid.dygraph.to_variable(theta)\n",
    "    num_qubits = 1\n",
    "    cir = UAnsatz(\"your code\")\n",
    "    cir.ry(\"your code\")\n",
    "    print(cir.U.numpy())"
   ]
  },
  {
   "cell_type": "markdown",
   "metadata": {},
   "source": [
    "和原来一样，我们还是多了一个全局相位\n",
    "\n",
    "\n",
    "$$ \\text{output} = \\begin{bmatrix} 0 &-1 \\\\ 1 &0 \\end{bmatrix}\n",
    "= -i\\begin{bmatrix} 0 &-i \\\\ i &0 \\end{bmatrix} = -i Y\n",
    "$$\n"
   ]
  },
  {
   "cell_type": "markdown",
   "metadata": {},
   "source": [
    "<p>[回到 <a href=\"#Contents\">目录</a>]</p>\n",
    "\n",
    "<hr>"
   ]
  },
  {
   "cell_type": "markdown",
   "metadata": {},
   "source": [
    "## <a name=\"VA\">量子电路模板/量子神经网络</a>"
   ]
  },
  {
   "cell_type": "markdown",
   "metadata": {},
   "source": [
    "经过上面的准备，你现在有一定的知识基础可以了解量子机器学习了。简单来说我们要做的就是利用量子电路来替代传统的神经网络来完成机器学习的任务。我们一般会准备一个可调节参数的量子电路（量子神经网络 QNN），很多时候也被称为模板 (Ansatz)，里面的参数是人为可调节的（这些参数其实就是旋转门的角度$\\theta$）。如果再加上一个精心设计的损失函数，就可以将一个量子计算问题转化为经典的寻找损失函数最小值问题。然后不断调节电路中的参数直到损失函数下降至收敛 (此时损失函数达到最优值或次优值)， 我们就完成优化了。\n"
   ]
  },
  {
   "cell_type": "markdown",
   "metadata": {},
   "source": [
    "### <a name=\"QNN\">示例: 如何创建量子神经网络 QNN?</a>\n",
    "\n",
    "所谓的QNN就是通常可以表示为一些单比特量子旋转门和双比特门的组合。其中一个可以高效利用硬件的架构是只包含 $\\{R_x, R_y, R_z, \\text{CNOT} \\}$这四种量子门的模板。它们很容易在NISQ设备（通常是超导量子比特）上实现，因为CNOT只需要实施在相邻量子比特上。一个例子可见下图：\n"
   ]
  },
  {
   "cell_type": "markdown",
   "metadata": {},
   "source": [
    "<img src=\"figures/gate1.png\" width=\"450\" >"
   ]
  },
  {
   "cell_type": "markdown",
   "metadata": {},
   "source": [
    "通常来说，每条线代表一个量子比特。我们把图最上端的认为是第一个量子比特，依次往下。从左到右代表我们施加门的时间顺序，先施加最左边的量子门。接下来，我们来看看如何在量桨上建造这个简单的两比特量子神经网络\n"
   ]
  },
  {
   "cell_type": "code",
   "execution_count": 4,
   "metadata": {},
   "outputs": [
    {
     "name": "stdout",
     "output_type": "stream",
     "text": [
      "图中量子神经网络 U(theta=pi) 的矩阵表达式是:\n",
      "[[ 0.0000000e+00 -1.0000000e+00  6.1232340e-17 -6.1232340e-17]\n",
      " [-1.0000000e+00  0.0000000e+00 -6.1232340e-17  6.1232340e-17]\n",
      " [-6.1232340e-17  6.1232340e-17  1.0000000e+00  1.2246468e-16]\n",
      " [ 6.1232340e-17 -6.1232340e-17 -1.2246468e-16  1.0000000e+00]]\n"
     ]
    }
   ],
   "source": [
    "# 设置角度参数 theta \n",
    "theta = np.full([4], np.pi)\n",
    "\n",
    "# 启动 Paddle 动态图模式\n",
    "with fluid.dygraph.guard():\n",
    "    \n",
    "    # 我们需要将 Numpy array 转换成 Paddle 动态图模式中支持的 variable\n",
    "    theta = fluid.dygraph.to_variable(theta)\n",
    "    \n",
    "    # 初始化量子电路\n",
    "    num_qubits = 2\n",
    "    cir = UAnsatz(num_qubits)\n",
    "    \n",
    "    # 添加单比特旋转门\n",
    "    cir.ry(theta[0], 0)\n",
    "    cir.ry(theta[1], 1)\n",
    "\n",
    "    # 添加两比特门\n",
    "    cir.cnot([0, 1])\n",
    "\n",
    "    # 添加单比特旋转门\n",
    "    cir.ry(theta[2], 0)\n",
    "    cir.ry(theta[3], 1)\n",
    "    \n",
    "    print('图中量子神经网络 U(theta=pi) 的矩阵表达式是:')\n",
    "    print(cir.U.numpy().real)"
   ]
  },
  {
   "cell_type": "markdown",
   "metadata": {},
   "source": [
    "$$ \\text{output} = \n",
    "\\begin{bmatrix} \n",
    "0  &-1 &0 &0 \\\\ \n",
    "-1 &0  &0 &0 \\\\\n",
    "0  &0  &1 &0 \\\\\n",
    "0  &0  &0 &1 \n",
    "\\end{bmatrix}\n",
    "$$"
   ]
  },
  {
   "cell_type": "markdown",
   "metadata": {},
   "source": [
    "### 练习:\n",
    "\n",
    "给你如下代码，你能想象出对应的电路吗?"
   ]
  },
  {
   "cell_type": "code",
   "execution_count": 5,
   "metadata": {},
   "outputs": [],
   "source": [
    "theta = np.full([6], np.pi)\n",
    "with fluid.dygraph.guard():\n",
    "    \n",
    "    theta = fluid.dygraph.to_variable(theta)\n",
    "    \n",
    "    num_qubits = 3\n",
    "    cir = UAnsatz(num_qubits)  \n",
    "    \n",
    "    cir.ry(theta[0], 0)\n",
    "    cir.ry(theta[1], 1)\n",
    "    cir.ry(theta[2], 2)\n",
    "    \n",
    "    cir.cnot([0, 1])\n",
    "    cir.cnot([1, 2])\n",
    "\n",
    "    cir.ry(theta[3], 0)\n",
    "    cir.ry(theta[4], 1)\n",
    "    cir.ry(theta[5], 2)\n",
    "    "
   ]
  },
  {
   "cell_type": "markdown",
   "metadata": {},
   "source": [
    "答案如下:"
   ]
  },
  {
   "cell_type": "markdown",
   "metadata": {},
   "source": [
    "<img src=\"figures/gate2.png\" width=\"450\" >\n"
   ]
  },
  {
   "cell_type": "markdown",
   "metadata": {},
   "source": [
    "### <a name=\"Ansatz\">内置的电路模板</a>"
   ]
  },
  {
   "cell_type": "markdown",
   "metadata": {},
   "source": [
    "在最新版本的 Paddle Quantum中，我们提供了一些内置的电路模板方便场景部署。"
   ]
  },
  {
   "cell_type": "code",
   "execution_count": 6,
   "metadata": {},
   "outputs": [
    {
     "data": {
      "image/png": "[encoded data removed]",
      "text/plain": [
       "<Figure size 432x288 with 1 Axes>"
      ]
     },
     "metadata": {
      "needs_background": "light"
     },
     "output_type": "display_data"
    }
   ],
   "source": [
    "N = 3  # 设置量子比特数\n",
    "\n",
    "# 启动 Paddle 动态图模式\n",
    "with fluid.dygraph.guard():\n",
    "    \n",
    "    # 初始化量子电路\n",
    "    cir = UAnsatz(N)\n",
    "    \n",
    "    # 给每一个量子比特施加哈达玛门 H\n",
    "    cir.superposition_layer()\n",
    "   \n",
    "    # 制备输出态\n",
    "    # 如果用户不输入初始量子态，默认初始为|00..0>\n",
    "    final_state = cir.run_state_vector()\n",
    "    \n",
    "    # 获取概率分布的理论值，令 shots = 0\n",
    "    cir.measure(shots = 0, plot = True)"
   ]
  },
  {
   "cell_type": "code",
   "execution_count": 7,
   "metadata": {},
   "outputs": [
    {
     "data": {
      "image/png": "[encoded data removed]",
      "text/plain": [
       "<Figure size 432x288 with 1 Axes>"
      ]
     },
     "metadata": {
      "needs_background": "light"
     },
     "output_type": "display_data"
    }
   ],
   "source": [
    "N = 3  # 设置量子比特数\n",
    "\n",
    "# 启动 Paddle 动态图模式\n",
    "with fluid.dygraph.guard():\n",
    "    \n",
    "    # 初始化量子电路\n",
    "    cir = UAnsatz(N)\n",
    "    \n",
    "    # 给每一个量子比特施加 Ry(pi/4)旋转\n",
    "    cir.weak_superposition_layer()\n",
    "   \n",
    "    # 制备输出态\n",
    "    # 如果用户不输入初始量子态，默认初始为|00..0>\n",
    "    final_state = cir.run_state_vector()\n",
    "    \n",
    "    # 获取概率分布的理论值，令 shots = 0\n",
    "    cir.measure(shots = 0, plot = True)"
   ]
  },
  {
   "cell_type": "markdown",
   "metadata": {},
   "source": [
    "以下是一个使用频率较高的电路模板 `complex_entangled_layer(theta, DEPTH)`，用户可按照电路深度参数 `DEPTH/D` 快速拓展电路。其中涉及的广义旋转门 $U_3$ 的定义为：\n",
    "\n",
    "$$\n",
    "U_3(\\theta, \\phi, \\varphi) := \n",
    "\\begin{bmatrix} \n",
    "\\cos \\frac{\\theta}{2} & -e^{i \\varphi}\\sin \\frac{\\theta}{2} \\\\ \n",
    "e^{i \\phi}\\sin \\frac{\\theta}{2} &e^{i (\\phi+\\varphi)} \\cos \\frac{\\theta}{2} \n",
    "\\end{bmatrix}\n",
    "$$\n",
    "\n",
    "$U_3$ 旋转门在效果上是等价于以下组合旋转门的,\n",
    "\n",
    "$$\n",
    "U_3(\\theta, \\phi, \\varphi) \n",
    "= R_z(\\phi)*R_y(\\theta)*R_z(\\varphi)\n",
    ":=\n",
    "\\begin{bmatrix}\n",
    "e^{-i\\frac{\\phi}{2}} & 0 \\\\ \n",
    "0 & e^{i\\frac{\\phi}{2}}\n",
    "\\end{bmatrix}\n",
    "\\begin{bmatrix}\n",
    "\\cos \\frac{\\theta}{2} &-\\sin \\frac{\\theta}{2} \\\\ \n",
    "\\sin \\frac{\\theta}{2} &\\cos \\frac{\\theta}{2} \n",
    "\\end{bmatrix}\n",
    "\\begin{bmatrix}\n",
    "e^{-i\\frac{\\varphi}{2}} & 0 \\\\ \n",
    "0 & e^{i\\frac{\\varphi}{2}}\n",
    "\\end{bmatrix}\n",
    "$$\n",
    "\n",
    "感兴趣的读者不妨自行验证一下。\n",
    "\n",
    "<img src=\"figures/complex_entangled_layer.png\" width=\"850\" >\n",
    "\n",
    "特别地，当我们处理的任务不涉及虚数时，使用电路模板 `real_entangled_layer(theta, DEPTH)` 会更加高效 ($R_y$旋转门替代$U_3$)。"
   ]
  },
  {
   "cell_type": "code",
   "execution_count": 8,
   "metadata": {
    "scrolled": true
   },
   "outputs": [
    {
     "data": {
      "image/png": "[encoded data removed]",
      "text/plain": [
       "<Figure size 432x288 with 1 Axes>"
      ]
     },
     "metadata": {
      "needs_background": "light"
     },
     "output_type": "display_data"
    }
   ],
   "source": [
    "N = 4            # 设置量子比特数\n",
    "DEPTH = 6        # 设置量子电路深度\n",
    "theta = np.random.randn(DEPTH, N, 3)\n",
    "\n",
    "# 启动 Paddle 动态图模式\n",
    "with fluid.dygraph.guard():\n",
    "    \n",
    "    # 我们需要将 Numpy array 转换成 Paddle 动态图模式中支持的 variable\n",
    "    theta = fluid.dygraph.to_variable(theta)\n",
    "    \n",
    "    # 初始化量子电路\n",
    "    cir = UAnsatz(N)\n",
    "    \n",
    "    # 添加深度为 D = 6 的复数强纠缠结构QNN {Rz+Ry+Rz/U3 + CNOT's}\n",
    "    cir.complex_entangled_layer(theta, DEPTH)\n",
    "    \n",
    "    # 制备输出态\n",
    "    # 如果用户不输入初始量子态，默认初始为|00..0>\n",
    "    final_state = cir.run_state_vector()\n",
    "    \n",
    "    # 测量输出态的[0，1，2]号量子比特2048次，统计测量结果的频率\n",
    "    cir.measure(shots = 2048, which_qubits = [0, 1, 2], plot = True)"
   ]
  },
  {
   "cell_type": "markdown",
   "metadata": {},
   "source": [
    "<p>[回到 <a href=\"#Contents\">目录</a>]</p>\n",
    "\n",
    "<hr>"
   ]
  },
  {
   "cell_type": "markdown",
   "metadata": {},
   "source": [
    "## <a name=\"Mode\"> 量桨的运行模式说明</a>"
   ]
  },
  {
   "cell_type": "markdown",
   "metadata": {},
   "source": [
    "###  <a name=\"vec\"> 波函数向量模式 </a>\n",
    "\n",
    "所谓的波函数模式也就是用复数向量表示和储存量子态。向量模式只能处理纯态，但这种模式在家用电脑硬件高效支持**20+量子比特**的运算。用户可以测试下自己电脑的极限在哪里。在这种表示下，量子门 (酉矩阵)作用在量子比特 (一个复向量)上本质上的运算是**矩阵乘以向量**：\n",
    "\n",
    "$$\\lvert {\\psi}\\rangle = U \\lvert {\\psi_0}\\rangle$$\n",
    "\n",
    "代码中，具体体现在 UAnsatz的调用 `cir.run_state_vector(input_state = None)`。如果我们不输入任何初始量子态，就会默认所有的量子比特都处于$\\lvert {0}\\rangle$态。接着来看个具体的例子："
   ]
  },
  {
   "cell_type": "code",
   "execution_count": 9,
   "metadata": {},
   "outputs": [
    {
     "name": "stdout",
     "output_type": "stream",
     "text": [
      "[[ 0.00042441+0.j  0.00029816+0.j  0.00019942+0.j ...  0.00039183+0.j\n",
      "  -0.00052556+0.j  0.00061023+0.j]]\n"
     ]
    }
   ],
   "source": [
    "from paddle_quantum.state import vec, vec_random\n",
    "\n",
    "N = 20           # 设置量子比特数\n",
    "DEPTH = 6        # 设置量子电路深度\n",
    "theta = np.random.randn(DEPTH, N, 1)\n",
    "\n",
    "# 调用内置的 |00..0> 初始态\n",
    "initial_state1 = vec(N)\n",
    "# 调用内置的随机量子态 |psi>\n",
    "initial_state2 = vec_random(N)\n",
    "\n",
    "# 启动 Paddle 动态图模式\n",
    "with fluid.dygraph.guard():\n",
    "    \n",
    "    # 我们需要将 Numpy array 转换成 Paddle 动态图模式中支持的 variable\n",
    "    theta = fluid.dygraph.to_variable(theta)\n",
    "    initial_state = fluid.dygraph.to_variable(initial_state1)\n",
    "    \n",
    "    # 初始化量子电路\n",
    "    cir = UAnsatz(N)\n",
    "    \n",
    "    # 添加深度为 Depth 的实数强纠缠结构QNN {Ry+CNOT's}\n",
    "    cir.real_entangled_layer(theta, DEPTH)\n",
    "    \n",
    "    # 制备输出态\n",
    "    # 如果用户不输入初始量子态，默认初始为|00..0>\n",
    "    final_state = cir.run_state_vector(initial_state)\n",
    "    print(final_state.numpy())"
   ]
  },
  {
   "cell_type": "markdown",
   "metadata": {},
   "source": [
    "###  <a name=\"density\"> 密度矩阵模式 </a>\n",
    "\n",
    "同时 Paddle quantum也支持了密度矩阵运算模式，也就是用一个密度矩阵 $\\rho = \\sum_i P_i \\lvert {\\psi_i}\\rangle\\langle{\\psi_i} \\lvert$表示和储存量子态。该模式下可以根据算法需要支持**混合态模拟**。但是在密度矩阵模式下，家用电脑硬件只能运行10个左右的量子比特。请用户注意这方面的限制，我们也在不断优化这个模式下的模拟器性能。在这种表示下，量子门 (酉矩阵)作用在量子态(一个迹为1的厄尔米特矩阵)上本质上的运算是**矩阵乘法**：\n",
    "\n",
    "$$\\rho = U \\rho_0 U^\\dagger$$\n",
    "\n",
    "代码中，具体体现在 UAnsatz的调用 `cir.run_density_matrix()`。接着来看个具体的例子："
   ]
  },
  {
   "cell_type": "code",
   "execution_count": 10,
   "metadata": {},
   "outputs": [
    {
     "name": "stdout",
     "output_type": "stream",
     "text": [
      "[[ 0.11259972+0.j -0.28258005+0.j  0.03785432+0.j -0.13651589+0.j]\n",
      " [-0.28258005+0.j  0.70916239+0.j -0.09499913+0.j  0.34260002+0.j]\n",
      " [ 0.03785432+0.j -0.09499913+0.j  0.01272605+0.j -0.04589457+0.j]\n",
      " [-0.13651589+0.j  0.34260002+0.j -0.04589457+0.j  0.16551185+0.j]]\n"
     ]
    }
   ],
   "source": [
    "from paddle_quantum.state import density_op, density_op_random, completely_mixed_computational\n",
    "\n",
    "N = 2            # 设置量子比特数\n",
    "DEPTH = 6        # 设置量子电路深度\n",
    "theta = np.random.randn(DEPTH, N, 1)\n",
    "\n",
    "# 调用内置的 |00..0><00..0| 初始态\n",
    "initial_state1 = density_op(N)\n",
    "# 调用内置的随机量子态, 可以指定是否允许复数元素和矩阵秩 \n",
    "initial_state2 = density_op_random(N, real_or_complex=2, rank=4)\n",
    "# 调用内置的计算基下的完全混合态 \n",
    "initial_state3 = completely_mixed_computational(N)\n",
    "\n",
    "# 启动 Paddle 动态图模式\n",
    "with fluid.dygraph.guard():\n",
    "    \n",
    "    # 我们需要将 Numpy array 转换成 Paddle 动态图模式中支持的 variable\n",
    "    theta = fluid.dygraph.to_variable(theta)\n",
    "    initial_state = fluid.dygraph.to_variable(initial_state1)\n",
    "    \n",
    "    # 初始化量子电路\n",
    "    cir = UAnsatz(N)\n",
    "    \n",
    "    # 添加深度为 Depth 的实数强纠缠结构QNN {Ry+CNOT's}\n",
    "    cir.real_entangled_layer(theta, DEPTH)\n",
    "    \n",
    "    # 制备输出态\n",
    "    # 如果用户不输入初始量子态，默认初始为|00..0><00..0|\n",
    "    final_state = cir.run_density_matrix(initial_state)\n",
    "    print(final_state.numpy())"
   ]
  },
  {
   "cell_type": "markdown",
   "metadata": {},
   "source": [
    "如果你对源代码有兴趣，可以利用如下 magic command即时查看。或者关注我们的 [[Github]](https://github.com/PaddlePaddle/Quantum)！"
   ]
  },
  {
   "cell_type": "code",
   "execution_count": 11,
   "metadata": {},
   "outputs": [],
   "source": [
    "%psource density_op_random"
   ]
  },
  {
   "cell_type": "markdown",
   "metadata": {},
   "source": [
    "###  <a name=\"Bell\">练习：如何从计算基制备贝尔态</a>\n",
    "\n",
    "贝尔态是一种很常用的量子纠缠态， 可以表示为\n",
    "\n",
    "$$\n",
    "\\lvert {\\Phi^+}\\rangle = \\frac{1}{\\sqrt{2}} \\big(\\lvert {00}\\rangle + \\lvert {11}\\rangle\\big)\n",
    "= \\frac{1}{\\sqrt{2}} \\,\n",
    "\\begin{bmatrix}\n",
    "1 \\\\\n",
    "0 \\\\\n",
    "0 \\\\\n",
    "1\n",
    "\\end{bmatrix}\n",
    "$$\n",
    "\n",
    "那么我们如何用量桨来制备一个贝尔态呢? 只需要如下的量子电路：\n"
   ]
  },
  {
   "cell_type": "markdown",
   "metadata": {},
   "source": [
    "<img src=\"figures/bell2.png\" width=\"750\" >"
   ]
  },
  {
   "cell_type": "code",
   "execution_count": 12,
   "metadata": {},
   "outputs": [
    {
     "data": {
      "image/png": "[encoded data removed]",
      "text/plain": [
       "<Figure size 432x288 with 1 Axes>"
      ]
     },
     "metadata": {
      "needs_background": "light"
     },
     "output_type": "display_data"
    },
    {
     "name": "stdout",
     "output_type": "stream",
     "text": [
      "我们制备出的贝尔态是:\n",
      "[0.        +0.j 0.70710678+0.j 0.70710678+0.j 0.        +0.j]\n"
     ]
    }
   ],
   "source": [
    "# 启动 Paddle 动态图模式\n",
    "with fluid.dygraph.guard():\n",
    "    \n",
    "    # 初始化量子电路\n",
    "    cir = UAnsatz(2)\n",
    "\n",
    "    # 添加量子门\n",
    "    cir.x(1)\n",
    "    cir.h(0)\n",
    "    cir.cnot([0, 1])  \n",
    "    \n",
    "    # 制备输出态\n",
    "    # 如果用户不输入初始量子态，默认初始为|00..0>\n",
    "    output_state = cir.run_state_vector()\n",
    "    \n",
    "    # 我们测量输出态2048次，获得测量结果频率分布\n",
    "    # 如果用户想获取概率分布的理论值，可以令 shots = 0\n",
    "    cir.measure(shots = 2048, plot = True)\n",
    "    \n",
    "    print('我们制备出的贝尔态是:')\n",
    "    print(output_state.numpy())"
   ]
  },
  {
   "cell_type": "markdown",
   "metadata": {},
   "source": [
    "<p>[回到 <a href=\"#Contents\">目录</a>]</p>\n",
    "\n",
    "<hr>"
   ]
  },
  {
   "cell_type": "markdown",
   "metadata": {},
   "source": [
    "## <a name=\"Op\"> 飞桨 Paddlepaddle 优化器使用教程</a>"
   ]
  },
  {
   "cell_type": "markdown",
   "metadata": {},
   "source": [
    "### <a name=\"GD\"> 示例: 利用飞桨的梯度下降来优化多元函数</a>\n",
    "\n",
    "\n",
    "在这一节，我们学习如何用飞桨动态图机制找到一个多元函数的极小值\n",
    "\n",
    "$$\n",
    "\\min_{\\boldsymbol{\\theta}}\\mathcal{L}(\\theta_1, \\theta_2, \\theta_3)\n",
    "= (\\theta_1)^2 + (\\theta_2)^2 + (\\theta_3)^2 + 10\n",
    "$$\n",
    "\n",
    "可以看出，只有当 $\\theta_1 = \\theta_2 = \\theta_3 = 0$ 的时候，$\\mathcal{L}$ 取最小值10。\n"
   ]
  },
  {
   "cell_type": "code",
   "execution_count": 13,
   "metadata": {},
   "outputs": [
    {
     "name": "stdout",
     "output_type": "stream",
     "text": [
      "损失函数的最小值是:  10.000000153748474\n"
     ]
    }
   ],
   "source": [
    "# 超参数设置\n",
    "theta_size = 3 \n",
    "ITR = 200       # 设置迭代次数\n",
    "LR = 0.5        # 设置学习速率\n",
    "SEED = 1        # 固定随机数种子\n",
    "\n",
    "class Optimization_ex1(fluid.dygraph.Layer):\n",
    "    \n",
    "\n",
    "    def __init__(self, shape, param_attr=fluid.initializer.Uniform(low=-5., high=5., seed=SEED), dtype='float64'):\n",
    "        super(Optimization_ex1, self).__init__()\n",
    "        \n",
    "        # 初始化一个长度为 theta_size的可学习参数列表，并用 [-5, 5] 的均匀分布来填充初始值\n",
    "        self.theta = self.create_parameter(shape=shape, attr=param_attr, dtype=dtype, is_bias=False)\n",
    "\n",
    "    # 定义损失函数和前向传播机制\n",
    "    def forward(self):\n",
    "        loss = self.theta[0] ** 2 +  self.theta[1] ** 2 + self.theta[2] ** 2 + 10\n",
    "        return loss\n",
    "    \n",
    "# 记录中间优化结果\n",
    "loss_list = []\n",
    "parameter_list = []\n",
    "\n",
    "# 初始化 paddle 动态图机制\n",
    "with fluid.dygraph.guard():\n",
    "    \n",
    "    # 定义网络维度\n",
    "    myLayer = Optimization_ex1([theta_size])\n",
    "    \n",
    "    # 一般来说，我们利用Adam优化器来获得相对好的收敛，当然你可以改成SGD或者是RMSprop.\n",
    "    optimizer = fluid.optimizer.AdagradOptimizer(learning_rate = LR, parameter_list = myLayer.parameters())    \n",
    "    \n",
    "    # 优化循环\n",
    "    for itr in range(ITR):\n",
    "        \n",
    "        # 向前传播计算损失函数\n",
    "        loss = myLayer()[0]\n",
    "        \n",
    "        # 在动态图机制下，反向传播优化损失函数\n",
    "        loss.backward()\n",
    "        optimizer.minimize(loss)\n",
    "        myLayer.clear_gradients()\n",
    "        \n",
    "        # 记录学习曲线\n",
    "        loss_list.append(loss.numpy()[0])\n",
    "        parameter_list.append(myLayer.parameters()[0].numpy())\n",
    "        \n",
    "    print('损失函数的最小值是: ', loss_list[-1])"
   ]
  },
  {
   "cell_type": "markdown",
   "metadata": {},
   "source": [
    "\n",
    "### <a name=\"ex2\"> 练习: 特征值寻找</a>\n",
    "\n",
    "接下来，我们试一个更复杂的损失函数。 首先我们介绍一个随机的埃尔米特矩阵 $H$ 其**特征值**为矩阵 $D$ 的对角元素。 \n",
    "\n",
    "$$ D = \\begin{bmatrix} 0.2 &0 \\\\ 0 &0.8 \\end{bmatrix}  $$\n",
    "\n",
    "不用担心，我们会帮你生成这个埃尔米特矩阵$H$. \n",
    "\n",
    "然后我们初始化参数向量$\\boldsymbol{\\theta}$，构造出一个简单的线性运算 $U(\\boldsymbol{\\theta}) = R_z(\\theta_1)*R_y(\\theta_2)*R_z(\\theta_3)$\n",
    "\n",
    "\n",
    "$$ \n",
    "U(\\theta_1, \\theta_2, \\theta_3) = \n",
    "\\begin{bmatrix}\n",
    "e^{-i\\frac{\\theta_1}{2}} & 0 \\\\ \n",
    "0 & e^{i\\frac{\\theta_1}{2}}\n",
    "\\end{bmatrix}\n",
    "\\begin{bmatrix}\n",
    "\\cos \\frac{\\theta_2}{2} &-\\sin \\frac{\\theta_2}{2} \\\\ \n",
    "\\sin \\frac{\\theta_2}{2} &\\cos \\frac{\\theta_2}{2} \n",
    "\\end{bmatrix}\n",
    "\\begin{bmatrix}\n",
    "e^{-i\\frac{\\theta_3}{2}} & 0 \\\\ \n",
    "0 & e^{i\\frac{\\theta_3}{2}}\n",
    "\\end{bmatrix}\n",
    "$$\n",
    "\n",
    "我们让这个矩阵（模板）乘以 $\\lvert {0}\\rangle$，得到一个新的2维复向量$\\lvert {\\phi}\\rangle$\n",
    "\n",
    "\n",
    "$$ \n",
    "\\lvert {\\phi}\\rangle = U(\\theta_1, \\theta_2, \\theta_3)\\lvert {0}\\rangle\n",
    "$$\n",
    "\n",
    "然后，我们定义损失函数为：\n",
    "\n",
    "$$\n",
    "\\min_{\\boldsymbol{\\theta}}\\mathcal{L}(\\theta_1, \\theta_2, \\theta_3) \n",
    "= \\langle{\\phi} \\lvert H \\lvert {\\phi}\\rangle \n",
    "=  \\langle{0} \\lvert  U^{\\dagger}H U \\lvert {0}\\rangle\n",
    "$$\n",
    "\n",
    "来看看优化后我们得到了什么！"
   ]
  },
  {
   "cell_type": "code",
   "execution_count": 14,
   "metadata": {},
   "outputs": [
    {
     "name": "stdout",
     "output_type": "stream",
     "text": [
      "随机生成的矩阵 H 是:\n",
      "[[ 0.73879472-2.77555756e-17j -0.12692858+1.29870005e-01j]\n",
      " [-0.12692858-1.29870005e-01j  0.26120528+0.00000000e+00j]] \n",
      "\n",
      "不出所料，H 的特征值是:\n",
      "[0.2 0.8]\n"
     ]
    }
   ],
   "source": [
    "from scipy.stats import unitary_group\n",
    "\n",
    "# V 是一个 2x2 的随机酉矩阵\n",
    "V = unitary_group.rvs(2)\n",
    "\n",
    "# D 的对角元是H的特征值\n",
    "# 你可以任意改变这里的对角元数值\n",
    "D = np.diag([0.2, 0.8])\n",
    "\n",
    "# V_dagger 是 V 的埃尔米特转置\n",
    "V_dagger = V.conj().T\n",
    "\n",
    "# @：代表矩阵乘积运算\n",
    "H = (V @ D @ V_dagger)\n",
    "print('随机生成的矩阵 H 是:')\n",
    "print(H, '\\n')\n",
    "print('不出所料，H 的特征值是:')\n",
    "print(np.linalg.eigh(H)[0])"
   ]
  },
  {
   "cell_type": "code",
   "execution_count": 15,
   "metadata": {},
   "outputs": [],
   "source": [
    "# 超参数设置\n",
    "theta_size = 3    # 设置 theta 维度\n",
    "num_qubits = 1    # 设置量子比特数\n",
    "ITR = 10          # 设置迭代次数\n",
    "LR = 0.8          # 设置学习速率\n",
    "SEED = 1          # 固定theta参数的随机数种子\n",
    "\n",
    "\n",
    "# 单独设置电路模块\n",
    "def U_theta(theta):\n",
    "    \n",
    "    # 初始化电路然后添加量子门\n",
    "    cir = UAnsatz(num_qubits)\n",
    "    cir.rz(theta[0], 0)\n",
    "    cir.ry(theta[1], 0)\n",
    "    cir.rz(theta[2], 0)\n",
    "    \n",
    "    # 返回参数化矩阵\n",
    "    return cir.U"
   ]
  },
  {
   "cell_type": "code",
   "execution_count": 16,
   "metadata": {},
   "outputs": [],
   "source": [
    "class Optimization_ex2(fluid.dygraph.Layer):\n",
    "    \n",
    "\n",
    "    def __init__(self, shape, param_attr=fluid.initializer.Uniform(low=0., high=2*np.pi, seed=SEED), dtype='float64'):\n",
    "        super(Optimization_ex2, self).__init__()\n",
    "        \n",
    "        # 初始化一个长度为 theta_size的可学习参数列表，并用 [0, 2*pi] 的均匀分布来填充初始值\n",
    "        self.theta = self.create_parameter(shape=shape, attr=param_attr, dtype=dtype, is_bias=False)\n",
    "        self.H = fluid.dygraph.to_variable(H)\n",
    "        \n",
    "    # 定义损失函数和前向传播机制\n",
    "    def forward(self):\n",
    "        \n",
    "        # 获取量子神经网络的酉矩阵表示\n",
    "        U = U_theta(self.theta)\n",
    "        \n",
    "        # 埃尔米特转置运算\n",
    "        U_dagger = hermitian(U)\n",
    "        \n",
    "        # 计算损失函数函数\n",
    "        loss = matmul(U_dagger, matmul(self.H, U)).real[0][0]\n",
    "        \n",
    "        return loss"
   ]
  },
  {
   "cell_type": "code",
   "execution_count": 17,
   "metadata": {},
   "outputs": [
    {
     "name": "stdout",
     "output_type": "stream",
     "text": [
      "iter: 0   loss: 0.7911\n",
      "iter: 1   loss: 0.5878\n",
      "iter: 2   loss: 0.2913\n",
      "iter: 3   loss: 0.2244\n",
      "iter: 4   loss: 0.2142\n",
      "iter: 5   loss: 0.2071\n",
      "iter: 6   loss: 0.2031\n",
      "iter: 7   loss: 0.2013\n",
      "iter: 8   loss: 0.2005\n",
      "iter: 9   loss: 0.2002\n",
      "损失函数的最小值是:  0.20019311438922205\n"
     ]
    }
   ],
   "source": [
    "loss_list = []\n",
    "parameter_list = []\n",
    "\n",
    "\n",
    "# 初始化paddle动态图机制\n",
    "with fluid.dygraph.guard():\n",
    "    \n",
    "    myLayer = Optimization_ex2([theta_size])\n",
    "    \n",
    "    # 一般来说，我们利用Adam优化器来获得相对好的收敛，当然你可以改成SGD或者是RMS prop.\n",
    "    optimizer = fluid.optimizer.AdagradOptimizer(learning_rate = LR, parameter_list = myLayer.parameters())    \n",
    "    \n",
    "    # 优化循环\n",
    "    for itr in range(ITR):\n",
    "        \n",
    "        # 前向传播计算损失函数\n",
    "        loss = myLayer()[0]\n",
    "        \n",
    "        # 在动态图机制下，反向传播极小化损失函数\n",
    "        loss.backward()\n",
    "        optimizer.minimize(loss)\n",
    "        myLayer.clear_gradients()\n",
    "        \n",
    "        # 记录学习曲线\n",
    "        loss_list.append(loss.numpy()[0])\n",
    "        parameter_list.append(myLayer.parameters()[0].numpy())\n",
    "        print('iter:', itr, '  loss: %.4f' % loss.numpy())\n",
    "        \n",
    "    print('损失函数的最小值是: ', loss_list[-1])"
   ]
  },
  {
   "cell_type": "markdown",
   "metadata": {},
   "source": [
    "我们可以改变一下$H$的特征值。如果将它对角化后的的对角矩阵改变为\n",
    "\n",
    "$$ D = \\begin{bmatrix} 0.8 &0 \\\\ 0 &1.2 \\end{bmatrix}  $$\n",
    "\n",
    "你会发现我们仍然得到了$H$的最小特征值0.8, 你能找到背后的原因吗？还是说这背后隐藏着什么理论？\n"
   ]
  },
  {
   "cell_type": "markdown",
   "metadata": {},
   "source": [
    "<p>[回到 <a href=\"#Contents\">目录</a>]</p>\n",
    "\n",
    "<hr>"
   ]
  },
  {
   "cell_type": "markdown",
   "metadata": {},
   "source": [
    "## <a name=\"demo\">量子机器学习案例</a>"
   ]
  },
  {
   "cell_type": "markdown",
   "metadata": {},
   "source": [
    "### <a name=\"VQE\"> 变分量子特征求解器 (VQE) -- 无监督学习</a>\n",
    "\n",
    "正如大名鼎鼎的John Preskill 所言，目前阶段理想的可容错的量子计算机还是遥遥无期。我们目前只能造出有噪音的，中等规模量子计算系统（NISQ）。现在一个利用 NISQ 的量子设备很有希望的算法种类就是量子-经典混合算法。人们期望这套方法也许可以在某些应用中超越经典计算机的表现。变分量子特征求解器（VQE）就是里面的一个杰出代表。它利用参数化的电路搜寻广阔的希尔伯特空间，并利用经典机器学习中的梯度下降来找到最优参数，并接近一个哈密顿量的基态（也就是找到一个埃尔米特矩阵的最小特征值）。这个电路其实你之前见过。为了确保你能理解, 我们来一起过一遍以下两量子比特 (2-qubit)的例子。\n",
    "\n",
    "假设我们想找到如下哈密顿量的基态：\n",
    "\n",
    "$$ H = 0.4 \\, Z \\otimes I + 0.4 \\, I \\otimes Z + 0.2 \\, X \\otimes X$$\n",
    "\n",
    "给定一种常见的量子神经网络架构"
   ]
  },
  {
   "cell_type": "markdown",
   "metadata": {},
   "source": [
    "<img src=\"figures/vqeAnsatz.png\" width=\"450\" >"
   ]
  },
  {
   "cell_type": "markdown",
   "metadata": {},
   "source": [
    "我们已经学会如何建造这个电路了。如果你忘了, 请转到 <a href=\"#QNN\">这里</a>。 有关VQE的更多信息, 请参见 [[博客]](https://www.mustythoughts.com/post/variational-quantum-eigensolver-explained)"
   ]
  },
  {
   "cell_type": "code",
   "execution_count": 18,
   "metadata": {},
   "outputs": [],
   "source": [
    "from paddle_quantum.utils import pauli_str_to_matrix\n",
    "\n",
    "# 首先生成泡利字符串表示下的哈密顿量\n",
    "# 相当于0.4*kron(I, Z) + 0.4*kron(Z, I) + 0.2*kron(X, X)\n",
    "# 其中， X，Y, Z是泡利矩阵， I是单位矩阵\n",
    "H_info = [[0.4, 'z0'], [0.4, 'z1'], [0.2, 'x0,x1']]\n",
    "\n",
    "# 超参数设置\n",
    "num_qubits = 2\n",
    "theta_size = 4\n",
    "ITR = 10\n",
    "LR = 0.5\n",
    "SEED = 1       \n",
    "\n",
    "# 把记录的关于哈密顿量的信息转化为矩阵表示\n",
    "H_matrix = pauli_str_to_matrix(H_info, num_qubits)"
   ]
  },
  {
   "cell_type": "code",
   "execution_count": 19,
   "metadata": {},
   "outputs": [],
   "source": [
    "class vqe_demo(fluid.dygraph.Layer):\n",
    "    \n",
    "\n",
    "    def __init__(self, shape, param_attr=fluid.initializer.Uniform(low=0., high=2*np.pi, seed=SEED), dtype='float64'):\n",
    "        super(vqe_demo, self).__init__()\n",
    "        \n",
    "        # 初始化一个长度为theta_size的可学习参数列表，并用[0, 2*pi]的均匀分布来填充初始值\n",
    "        self.theta = self.create_parameter(shape=shape, attr=param_attr, dtype=dtype, is_bias=False)\n",
    "        self.H = fluid.dygraph.to_variable(H)\n",
    "        \n",
    "    # 定义损失函数和前向传播机制\n",
    "    def forward(self):\n",
    "        \n",
    "        # 初始量子电路\n",
    "        cir = UAnsatz(num_qubits)\n",
    "        \n",
    "        # 添加量子门\n",
    "        cir.ry(self.theta[0], 0)\n",
    "        cir.ry(self.theta[1], 1)\n",
    "        cir.cnot([0, 1])\n",
    "        cir.ry(self.theta[2], 0)\n",
    "        cir.ry(self.theta[3], 1)\n",
    "        \n",
    "        # 选择用量子态的向量表示\n",
    "        cir.run_state_vector()\n",
    "        \n",
    "        # 计算当前量子态下关于观测量H_info的期望值\n",
    "        # 也就是 <psi|H|psi>\n",
    "        loss = cir.expecval(H_info)\n",
    "        \n",
    "        return loss"
   ]
  },
  {
   "cell_type": "code",
   "execution_count": 20,
   "metadata": {
    "colab": {
     "base_uri": "https://localhost:8080/",
     "height": 1000
    },
    "colab_type": "code",
    "id": "S9fO_sGR64LV",
    "outputId": "f1be9cac-5d5e-4944-c13d-32983628fa6c"
   },
   "outputs": [
    {
     "name": "stdout",
     "output_type": "stream",
     "text": [
      "iter: 0   loss: 0.3195\n",
      "iter: 1   loss: -0.3615\n",
      "iter: 2   loss: -0.6528\n",
      "iter: 3   loss: -0.7420\n",
      "iter: 4   loss: -0.7813\n",
      "iter: 5   loss: -0.8022\n",
      "iter: 6   loss: -0.8130\n",
      "iter: 7   loss: -0.8187\n",
      "iter: 8   loss: -0.8216\n",
      "iter: 9   loss: -0.8231\n",
      "计算得到的基态能量是:  -0.8230721264692568\n",
      "真实的基态能量为:  -0.8246211251235321\n"
     ]
    }
   ],
   "source": [
    "loss_list = []\n",
    "parameter_list = []\n",
    "\n",
    "\n",
    "# 初始化paddle动态图机制\n",
    "with fluid.dygraph.guard():\n",
    "    \n",
    "    # 定义网络维度\n",
    "    vqe = vqe_demo([theta_size])\n",
    "    \n",
    "    # 一般来说，我们利用Adam优化器来获得相对好的收敛，当然你可以改成SGD或者是RMS prop.\n",
    "    optimizer = fluid.optimizer.AdagradOptimizer(learning_rate = LR, parameter_list = vqe.parameters())    \n",
    "    \n",
    "    # 优化循环\n",
    "    for itr in range(ITR):\n",
    "        \n",
    "        # 前向传播计算损失函数\n",
    "        loss = vqe()\n",
    "        \n",
    "        # 在动态图机制下，反向传播极小化损失函数\n",
    "        loss.backward()\n",
    "        optimizer.minimize(loss)\n",
    "        vqe.clear_gradients()\n",
    "        \n",
    "        # 记录学习曲线\n",
    "        loss_list.append(loss.numpy()[0])\n",
    "        parameter_list.append(vqe.parameters()[0].numpy())\n",
    "        print('iter:', itr, '  loss: %.4f' % loss.numpy())\n",
    "    \n",
    "    \n",
    "    print('计算得到的基态能量是: ', loss_list[-1])\n",
    "    print('真实的基态能量为: ', np.linalg.eigh(H_matrix)[0][0])"
   ]
  },
  {
   "cell_type": "markdown",
   "metadata": {},
   "source": [
    "<p>[回到 <a href=\"#Contents\">目录</a>]</p>\n",
    "\n",
    "<hr>"
   ]
  },
  {
   "cell_type": "markdown",
   "metadata": {},
   "source": [
    "## <a name=\"References\">参考文献</a>\n",
    "\n",
    "[1] [Peruzzo, A. et al. A variational eigenvalue solver on a photonic quantum processor. Nat. Commun. 5, 4213 (2014).](https://www.nature.com/articles/ncomms5213)\n",
    "\n",
    "[2] [McClean, J. R., Romero, J., Babbush, R. & Aspuru-Guzik, A. The theory of variational hybrid quantum-classical algorithms. New J. Phys. 18, 023023 (2016).](https://iopscience.iop.org/article/10.1088/1367-2630/18/2/023023)\n",
    "\n",
    "[3] [Kandala, A. et al. Hardware-efficient variational quantum eigensolver for small molecules and quantum magnets. Nature 549, 242–246 (2017).](https://www.nature.com/articles/nature23879)\n",
    "\n",
    "[4] [Mitarai, K., Negoro, M., Kitagawa, M. & Fujii, K. Quantum circuit learning. Phys. Rev. A 98, 032309 (2018).](https://journals.aps.org/pra/abstract/10.1103/PhysRevA.98.032309)"
   ]
  },
  {
   "cell_type": "markdown",
   "metadata": {},
   "source": [
    "<p>[回到 <a href=\"#Contents\">目录</a>]</p>\n",
    "\n",
    "<hr>"
   ]
  }
 ],
 "metadata": {
  "colab": {
   "name": "QSD-Paddle.ipynb",
   "provenance": []
  },
  "kernelspec": {
   "display_name": "Python 3",
   "language": "python",
   "name": "python3"
  },
  "language_info": {
   "codemirror_mode": {
    "name": "ipython",
    "version": 3
   },
   "file_extension": ".py",
   "mimetype": "text/x-python",
   "name": "python",
   "nbconvert_exporter": "python",
   "pygments_lexer": "ipython3",
   "version": "3.7.9"
  }
 },
 "nbformat": 4,
 "nbformat_minor": 1
}
